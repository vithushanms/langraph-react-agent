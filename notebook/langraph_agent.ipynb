{
 "cells": [
  {
   "cell_type": "code",
   "execution_count": 4,
   "metadata": {},
   "outputs": [],
   "source": [
    "from dotenv import load_dotenv\n",
    "_ = load_dotenv()"
   ]
  },
  {
   "cell_type": "markdown",
   "metadata": {},
   "source": [
    "## LLM"
   ]
  },
  {
   "cell_type": "code",
   "execution_count": null,
   "metadata": {},
   "outputs": [],
   "source": [
    "from langchain_openai import ChatOpenAI"
   ]
  },
  {
   "cell_type": "code",
   "execution_count": 10,
   "metadata": {},
   "outputs": [
    {
     "data": {
      "text/plain": [
       "AIMessage(content='Hello! How can I assist you today?', additional_kwargs={'refusal': None}, response_metadata={'token_usage': {'completion_tokens': 10, 'prompt_tokens': 9, 'total_tokens': 19, 'completion_tokens_details': {'accepted_prediction_tokens': 0, 'audio_tokens': 0, 'reasoning_tokens': 0, 'rejected_prediction_tokens': 0}, 'prompt_tokens_details': {'audio_tokens': 0, 'cached_tokens': 0}}, 'model_name': 'gpt-4o-mini-2024-07-18', 'system_fingerprint': 'fp_06737a9306', 'finish_reason': 'stop', 'logprobs': None}, id='run-589b94a4-84a3-42d8-80ed-cbc3057da395-0', usage_metadata={'input_tokens': 9, 'output_tokens': 10, 'total_tokens': 19, 'input_token_details': {'audio': 0, 'cache_read': 0}, 'output_token_details': {'audio': 0, 'reasoning': 0}})"
      ]
     },
     "execution_count": 10,
     "metadata": {},
     "output_type": "execute_result"
    }
   ],
   "source": [
    "model = ChatOpenAI(model=\"gpt-4o-mini\")\n",
    "model.invoke(\"Hello world\")"
   ]
  },
  {
   "cell_type": "code",
   "execution_count": 5,
   "metadata": {},
   "outputs": [],
   "source": [
    "from langgraph.graph import StateGraph, END\n",
    "from typing import TypedDict, Annotated\n",
    "import operator\n",
    "from langchain_core.messages import AnyMessage, SystemMessage, HumanMessage, ToolMessage\n",
    "from langchain_community.tools.tavily_search import TavilySearchResults"
   ]
  },
  {
   "cell_type": "code",
   "execution_count": 17,
   "metadata": {},
   "outputs": [
    {
     "name": "stdout",
     "output_type": "stream",
     "text": [
      "<class 'langchain_community.tools.tavily_search.tool.TavilySearchResults'>\n",
      "tavily_search_results_json\n"
     ]
    }
   ],
   "source": [
    "tool = TavilySearchResults(max_results=4) #increased number of results\n",
    "print(type(tool))\n",
    "print(tool.name)"
   ]
  },
  {
   "cell_type": "code",
   "execution_count": 9,
   "metadata": {},
   "outputs": [],
   "source": [
    "class AgentState(TypedDict):\n",
    "    messages: Annotated[list[AnyMessage], operator.add]"
   ]
  },
  {
   "cell_type": "code",
   "execution_count": 33,
   "metadata": {},
   "outputs": [],
   "source": [
    "class Agent:\n",
    "    def __init__(self, model, tools, system_prompt):\n",
    "        self.system_prompt = system_prompt\n",
    "        graph = StateGraph(AgentState)\n",
    "        graph.add_node(\"llm\", self.call_openai)\n",
    "        graph.add_node(\"action\", self.take_action)\n",
    "        graph.add_conditional_edges(\n",
    "            \"llm\",\n",
    "            self.action_exists,\n",
    "            {\n",
    "                True: \"action\",\n",
    "                False: END\n",
    "            }\n",
    "        )\n",
    "        graph.add_edge(\"action\", \"llm\")\n",
    "        graph.set_entry_point(\"llm\")\n",
    "        self.graph = graph.compile()\n",
    "        self.tools = {t.name: t for t in tools}\n",
    "        self.model = model.bind_tools(tools)\n",
    "    \n",
    "    def call_openai(self, state: AgentState):\n",
    "        messages = state[\"messages\"]\n",
    "        if self.system_prompt:\n",
    "            messages = [SystemMessage(content=self.system_prompt)] + messages\n",
    "        response = self.model.invoke(messages)\n",
    "        return {\"messages\": [response]}\n",
    "    \n",
    "    def action_exists(self, state: AgentState):\n",
    "        messages = state[\"messages\"]\n",
    "        last_message = messages[-1]\n",
    "        return len(last_message.tool_calls) > 0\n",
    "\n",
    "    def take_action(self, state: AgentState):\n",
    "        tool_calls = state['messages'][-1].tool_calls\n",
    "        results = []\n",
    "        for t in tool_calls:\n",
    "            print(f\"Calling: {t}\")\n",
    "            if not t['name'] in self.tools:      # check for bad tool name from LLM\n",
    "                print(\"\\n ....bad tool name....\")\n",
    "                result = \"bad tool name, retry\"  # instruct LLM to retry if bad\n",
    "            else:\n",
    "                result = self.tools[t['name']].invoke(t['args'])\n",
    "            results.append(ToolMessage(tool_call_id=t['id'], name=t['name'], content=str(result)))\n",
    "        print(\"Back to the model!\")\n",
    "        return {'messages': results}\n",
    "    \n",
    "    "
   ]
  },
  {
   "cell_type": "code",
   "execution_count": 34,
   "metadata": {},
   "outputs": [],
   "source": [
    "prompt = \"\"\"You are a smart research assistant. Use the search engine to look up information. \\\n",
    "You are allowed to make multiple calls (either together or in sequence). \\\n",
    "Only look up information when you are sure of what you want. \\\n",
    "If you need to look up some information before asking a follow up question, you are allowed to do that!\n",
    "\"\"\"\n",
    "\n",
    "model = ChatOpenAI(model=\"gpt-3.5-turbo\")  #reduce inference cost\n",
    "abot = Agent(model, [tool], system_prompt=prompt)"
   ]
  },
  {
   "cell_type": "code",
   "execution_count": 35,
   "metadata": {},
   "outputs": [
    {
     "data": {
      "image/png": "[encoded data removed]",
      "text/plain": [
       "<IPython.core.display.Image object>"
      ]
     },
     "execution_count": 35,
     "metadata": {},
     "output_type": "execute_result"
    }
   ],
   "source": [
    "from IPython.display import Image\n",
    "\n",
    "Image(abot.graph.get_graph().draw_png())"
   ]
  },
  {
   "cell_type": "code",
   "execution_count": 36,
   "metadata": {},
   "outputs": [
    {
     "name": "stdout",
     "output_type": "stream",
     "text": [
      "Calling: {'name': 'tavily_search_results_json', 'args': {'query': 'weather in San Francisco'}, 'id': 'call_NdTBhGJ29yBUaN8XSVavR8wz', 'type': 'tool_call'}\n",
      "Back to the model!\n"
     ]
    }
   ],
   "source": [
    "messages = [HumanMessage(content=\"What is the weather in sf?\")]\n",
    "result = abot.graph.invoke({\"messages\": messages})"
   ]
  },
  {
   "cell_type": "code",
   "execution_count": 37,
   "metadata": {},
   "outputs": [
    {
     "data": {
      "text/plain": [
       "{'messages': [HumanMessage(content='What is the weather in sf?', additional_kwargs={}, response_metadata={}),\n",
       "  AIMessage(content='', additional_kwargs={'tool_calls': [{'id': 'call_NdTBhGJ29yBUaN8XSVavR8wz', 'function': {'arguments': '{\"query\":\"weather in San Francisco\"}', 'name': 'tavily_search_results_json'}, 'type': 'function'}], 'refusal': None}, response_metadata={'token_usage': {'completion_tokens': 22, 'prompt_tokens': 153, 'total_tokens': 175, 'completion_tokens_details': {'accepted_prediction_tokens': 0, 'audio_tokens': 0, 'reasoning_tokens': 0, 'rejected_prediction_tokens': 0}, 'prompt_tokens_details': {'audio_tokens': 0, 'cached_tokens': 0}}, 'model_name': 'gpt-3.5-turbo-0125', 'system_fingerprint': None, 'finish_reason': 'tool_calls', 'logprobs': None}, id='run-b7d49a22-2211-4a5f-b449-bacd7f31d50c-0', tool_calls=[{'name': 'tavily_search_results_json', 'args': {'query': 'weather in San Francisco'}, 'id': 'call_NdTBhGJ29yBUaN8XSVavR8wz', 'type': 'tool_call'}], usage_metadata={'input_tokens': 153, 'output_tokens': 22, 'total_tokens': 175, 'input_token_details': {'audio': 0, 'cache_read': 0}, 'output_token_details': {'audio': 0, 'reasoning': 0}}),\n",
       "  ToolMessage(content='[{\\'title\\': \\'Weather in San Francisco\\', \\'url\\': \\'https://www.weatherapi.com/\\', \\'content\\': \"{\\'location\\': {\\'name\\': \\'San Francisco\\', \\'region\\': \\'California\\', \\'country\\': \\'United States of America\\', \\'lat\\': 37.775, \\'lon\\': -122.4183, \\'tz_id\\': \\'America/Los_Angeles\\', \\'localtime_epoch\\': 1742290875, \\'localtime\\': \\'2025-03-18 02:41\\'}, \\'current\\': {\\'last_updated_epoch\\': 1742290200, \\'last_updated\\': \\'2025-03-18 02:30\\', \\'temp_c\\': 9.4, \\'temp_f\\': 48.9, \\'is_day\\': 0, \\'condition\\': {\\'text\\': \\'Clear\\', \\'icon\\': \\'//cdn.weatherapi.com/weather/64x64/night/113.png\\', \\'code\\': 1000}, \\'wind_mph\\': 9.8, \\'wind_kph\\': 15.8, \\'wind_degree\\': 314, \\'wind_dir\\': \\'NW\\', \\'pressure_mb\\': 1025.0, \\'pressure_in\\': 30.28, \\'precip_mm\\': 0.0, \\'precip_in\\': 0.0, \\'humidity\\': 66, \\'cloud\\': 0, \\'feelslike_c\\': 7.1, \\'feelslike_f\\': 44.7, \\'windchill_c\\': 5.6, \\'windchill_f\\': 42.0, \\'heatindex_c\\': 8.2, \\'heatindex_f\\': 46.7, \\'dewpoint_c\\': 4.9, \\'dewpoint_f\\': 40.7, \\'vis_km\\': 16.0, \\'vis_miles\\': 9.0, \\'uv\\': 0.0, \\'gust_mph\\': 15.3, \\'gust_kph\\': 24.7}}\", \\'score\\': 0.9631683}, {\\'title\\': \\'Weather San Francisco in March 2025: Temperature & Climate\\', \\'url\\': \\'https://en.climate-data.org/north-america/united-states-of-america/california/san-francisco-385/t/march-3/\\', \\'content\\': \\'| 18. March | 12 °C | 53 °F | 17 °C | 63 °F | 8 °C | 46 °F | 12 °C | 53 °F | 1.6 mm | 0.1 inch. |\\\\n| 19. March | 12 °C | 54 °F | 17 °C | 63 °F | 8 °C | 47 °F | 12 °C | 53 °F | 1.4 mm | 0.1 inch. |\\\\n| 20. March | 12 °C | 54 °F | 17 °C | 62 °F | 9 °C | 48 °F | 12 °C | 53 °F | 3.5 mm | 0.1 inch. |\\\\n| 21. March | 12 °C | 53 °F | 16 °C | 62 °F | 9 °C | 48 °F | 12 °C | 53 °F | 2.8 mm | 0.1 inch. |\\\\n| 22. March | 12 °C | 53 °F | 16 °C | 61 °F | 9 °C | 48 °F | 12 °C | 53 °F | 4.0 mm | 0.2 inch. | [...] | Max. Temperature °C (°F) | 14 °C\\\\n(57.3) °F\\\\n| 14.9 °C\\\\n(58.7) °F\\\\n| 16.2 °C\\\\n(61.2) °F\\\\n| 17.4 °C\\\\n(63.3) °F\\\\n| 19.2 °C\\\\n(66.5) °F\\\\n| 21.5 °C\\\\n(70.8) °F\\\\n| 21.8 °C\\\\n(71.2) °F\\\\n| 22.2 °C\\\\n(71.9) °F\\\\n| 23.1 °C\\\\n(73.6) °F\\\\n| 21.3 °C\\\\n(70.3) °F\\\\n| 17.1 °C\\\\n(62.8) °F\\\\n| 13.9 °C\\\\n(57.1) °F\\\\n|\\\\n| Precipitation / Rainfall mm (in) | 113\\\\n(4)\\\\n| 118\\\\n(4)\\\\n| 83\\\\n(3)\\\\n| 40\\\\n(1)\\\\n| 21\\\\n(0)\\\\n| 6\\\\n(0)\\\\n| 2\\\\n(0)\\\\n| 2\\\\n(0)\\\\n| 3\\\\n(0)\\\\n| 25\\\\n(0)\\\\n| 57\\\\n(2)\\\\n| 111\\\\n(4)\\\\n|\\\\n| Humidity(%) | 79% | 80% | 78% | 72% | 70% | 69% | 74% | 74% | 71% | 70% | 76% | 78% | [...] (3.3)\\\\n| 78% | 7 | 8.0 |\\\\n| April | 12.5\\\\n(54.6)\\\\n| 8.9\\\\n(48.1)\\\\n| 17.4\\\\n(63.3)\\\\n| 40\\\\n(1.6)\\\\n| 72% | 4 | 9.0 |\\\\n| May | 14.1\\\\n(57.4)\\\\n| 10.3\\\\n(50.6)\\\\n| 19.2\\\\n(66.5)\\\\n| 21\\\\n(0.8)\\\\n| 70% | 2 | 9.0 |\\\\n| June | 15.9\\\\n(60.7)\\\\n| 11.8\\\\n(53.3)\\\\n| 21.5\\\\n(70.8)\\\\n| 6\\\\n(0.2)\\\\n| 69% | 1 | 9.0 |\\\\n| July | 16.3\\\\n(61.4)\\\\n| 12.7\\\\n(54.9)\\\\n| 21.8\\\\n(71.2)\\\\n| 2\\\\n(0.1)\\\\n| 74% | 0 | 7.0 |\\\\n| August | 16.7\\\\n(62.1)\\\\n| 13.3\\\\n(55.9)\\\\n| 22.2\\\\n(71.9)\\\\n| 2\\\\n(0.1)\\\\n| 74% | 0 | 7.0 |\\\\n| September | 17.1\\\\n(62.7)\\\\n| 13.1\\\\n(55.6)\\\\n| 23.1\\\\n(73.6)\\\\n| 3\\\\n(0.1)\\\\n| 71% | 1 | 8.0 |\\', \\'score\\': 0.8714831535142119}, {\\'title\\': \\'San Francisco weather in March 2025 | Weather25.com\\', \\'url\\': \\'https://www.weather25.com/north-america/usa/california/san-francisco?page=month&month=March\\', \\'content\\': \\'Location was added to My Locations\\\\nLocation was removed from My Locations\\\\nFebruary\\\\nApril\\\\nSan Francisco weather in March 2025\\\\nThe temperatures in San Francisco in March are quite cold with temperatures between 8°C and 17°C, warm clothes are a must.\\\\nYou can expect about 3 to 8 days of rain in San Francisco during the month of March. It’s a good idea to bring along your umbrella so that you don’t get caught in poor weather. [...] | Sun | Mon | Tue | Wed | Thu | Fri | Sat |\\\\n| --- | --- | --- | --- | --- | --- | --- |\\\\n| \\\\n | \\\\n| \\\\n| \\\\n| \\\\n| \\\\n| 1  14° /9° |\\\\n| 2  15° /9° | 3  14° /9° | 4  14° /9° | 5  13° /9° | 6  13° /7° | 7  13° /7° | 8  13° /8° |\\\\n| 9  12° /8° | 10  14° /9° | 11  14° /8° | 12  15° /10° | 13  14° /9° | 14  13° /9° | 15  13° /8° |\\\\n| 16  14° /7° | 17  14° /8° | 18  14° /7° | 19  13° /9° | 20  14° /8° | 21  14° /8° | 22  16° /9° | [...] Temperatures\\\\n17° / 8°\\\\n\\\\nRainy Days\\\\n5\\\\n\\\\nSnowy Days\\\\n0\\\\n\\\\nDry Days\\\\n26\\\\n\\\\nRainfall\\\\n62\\\\nmm\\\\n\\\\nSun Hours\\\\n10.1\\\\nHrs\\\\nHistoric average weather for March\\\\n\\\\nMarch\\', \\'score\\': 0.7836436427390181}, {\\'title\\': \\'Weather in San Francisco in March 2025 (California)\\', \\'url\\': \\'https://world-weather.info/forecast/usa/san_francisco/march-2025/\\', \\'content\\': \"Sun\\\\nMon\\\\nTue\\\\nWed\\\\nThu\\\\nFri\\\\n\\\\nSat\\\\n\\\\n\\\\n1 +54°+52°\\\\n\\\\n2 +54°+50°\\\\n3 +54°+50°\\\\n4 +54°+48°\\\\n5 +61°+46°\\\\n\\\\n6\\\\n+59°+50°\\\\n\\\\n\\\\n7\\\\n+59°+50°\\\\n\\\\n\\\\n8\\\\n+61°+50°\\\\n\\\\n\\\\n9\\\\n+61°+52°\\\\n\\\\n\\\\n10\\\\n+61°+52°\\\\n\\\\n\\\\n11\\\\n+63°+52°\\\\n\\\\n\\\\n12\\\\n+63°+52°\\\\n\\\\n\\\\n13\\\\n+61°+52°\\\\n\\\\n\\\\n14\\\\n+61°+52°\\\\n\\\\n\\\\n15\\\\n+63°+54°\\\\n\\\\n\\\\n16\\\\n+61°+52°\\\\n\\\\n\\\\n17\\\\n+63°+50°\\\\n\\\\n\\\\n18\\\\n+61°+52°\\\\n\\\\n\\\\n19\\\\n+61°+52°\\\\n\\\\n\\\\n20\\\\n+59°+52°\\\\n\\\\n\\\\n21\\\\n+61°+52°\\\\n\\\\n\\\\n22\\\\n+59°+50°\\\\n\\\\n\\\\n23\\\\n+57°+50°\\\\n\\\\n\\\\n24\\\\n+57°+50°\\\\n\\\\n\\\\n25\\\\n+59°+50°\\\\n\\\\n\\\\n26\\\\n+59°+50°\\\\n\\\\n\\\\n27\\\\n+61°+52°\\\\n\\\\n\\\\n28\\\\n+63°+52°\\\\n\\\\n\\\\n29\\\\n+63°+54°\\\\n\\\\n\\\\n30\\\\n+63°+52°\\\\n\\\\n\\\\n31\\\\n+63°+54° [...] Weather in San Francisco in March 2025 (California) - Detailed Weather Forecast for a Month\\\\n\\\\nAdd the current city\\\\nSearch\\\\n\\\\nWeather\\\\nArchive\\\\nWidgets\\\\n\\\\n°F\\\\n\\\\nWorld\\\\nUnited States\\\\nCalifornia\\\\nWeather in San Francisco\\\\n\\\\nWeather in San Francisco in March 2025\\\\nSan Francisco Weather Forecast for March 2025 is based on long term prognosis and previous years\\' statistical data.\\\\n201520162017201820192020202120222023202420252026\\\\nJanFebMarAprMayJunJulAugSepOctNovDec\\\\nMarch\\\\nStart Week On\\\\nSunday\\\\nMonday [...] Weather in large and nearby cities\\\\nWeather in Washington, D.C.+32°\\\\nSacramento+55°\\\\nPleasanton+52°\\\\nRedwood City+55°\\\\nSan Leandro+55°\\\\nSan Mateo+54°\\\\nSan Rafael+55°\\\\nSan Ramon+52°\\\\nSouth San Francisco+54°\\\\nVallejo+54°\\\\nPalo Alto+55°\\\\nPacifica+55°\\\\nBerkeley+57°\\\\nCastro Valley+54°\\\\nConcord+54°\\\\nDaly City+54°\\\\nFloresta Gardens - Bradrick+55°\\\\nLagunitas+55°\\\\nMinimum and maximum\\\\nworld\\'s temperature today\\\\nCanada\\\\nMoose Jaw\\\\nday\\\\n-15°F\\\\nnight\\\\n-44°F\\\\nSudan\\\\nAl Ḩawātah\\\\nday\\\\n+109°F\\\\nnight\\\\n+75°F\\\\nServices\\\\nSupport\", \\'score\\': 0.7789571074935401}]', name='tavily_search_results_json', tool_call_id='call_NdTBhGJ29yBUaN8XSVavR8wz'),\n",
       "  AIMessage(content='The current weather in San Francisco is 48.9°F (9.4°C). It is clear with a wind speed of 15.8 kph coming from the northwest. The humidity is at 66%, and there is no precipitation at the moment.', additional_kwargs={'refusal': None}, response_metadata={'token_usage': {'completion_tokens': 55, 'prompt_tokens': 3011, 'total_tokens': 3066, 'completion_tokens_details': {'accepted_prediction_tokens': 0, 'audio_tokens': 0, 'reasoning_tokens': 0, 'rejected_prediction_tokens': 0}, 'prompt_tokens_details': {'audio_tokens': 0, 'cached_tokens': 0}}, 'model_name': 'gpt-3.5-turbo-0125', 'system_fingerprint': None, 'finish_reason': 'stop', 'logprobs': None}, id='run-d55c0d74-d687-4817-a313-0c670eda8a60-0', usage_metadata={'input_tokens': 3011, 'output_tokens': 55, 'total_tokens': 3066, 'input_token_details': {'audio': 0, 'cache_read': 0}, 'output_token_details': {'audio': 0, 'reasoning': 0}})]}"
      ]
     },
     "execution_count": 37,
     "metadata": {},
     "output_type": "execute_result"
    }
   ],
   "source": [
    "result"
   ]
  },
  {
   "cell_type": "code",
   "execution_count": 38,
   "metadata": {},
   "outputs": [
    {
     "data": {
      "text/plain": [
       "'The current weather in San Francisco is 48.9°F (9.4°C). It is clear with a wind speed of 15.8 kph coming from the northwest. The humidity is at 66%, and there is no precipitation at the moment.'"
      ]
     },
     "execution_count": 38,
     "metadata": {},
     "output_type": "execute_result"
    }
   ],
   "source": [
    "result['messages'][-1].content"
   ]
  },
  {
   "cell_type": "code",
   "execution_count": 39,
   "metadata": {},
   "outputs": [
    {
     "name": "stdout",
     "output_type": "stream",
     "text": [
      "Calling: {'name': 'tavily_search_results_json', 'args': {'query': 'current weather in San Francisco'}, 'id': 'call_MK9qX3m7LTmL6YclOZOqxJXW', 'type': 'tool_call'}\n",
      "Calling: {'name': 'tavily_search_results_json', 'args': {'query': 'current weather in Los Angeles'}, 'id': 'call_BJT1xP9HagQ5eOw41Z8K0zbu', 'type': 'tool_call'}\n",
      "Back to the model!\n"
     ]
    }
   ],
   "source": [
    "messages = [HumanMessage(content=\"What is the weather in SF and LA?\")]\n",
    "result = abot.graph.invoke({\"messages\": messages})"
   ]
  },
  {
   "cell_type": "code",
   "execution_count": 40,
   "metadata": {},
   "outputs": [
    {
     "data": {
      "text/plain": [
       "'The current weather in San Francisco is clear with a temperature of 46.9°F, and the wind speed is 16.2 km/h coming from the northwest. In Los Angeles, the current weather is also clear with a temperature of 51.1°F, and the wind speed is 9.4 km/h coming from the west-northwest.'"
      ]
     },
     "execution_count": 40,
     "metadata": {},
     "output_type": "execute_result"
    }
   ],
   "source": [
    "result['messages'][-1].content"
   ]
  },
  {
   "cell_type": "code",
   "execution_count": null,
   "metadata": {},
   "outputs": [],
   "source": [
    "query = \"Who won the super bowl in 2024? In what state is the winning team headquarters located? \\\n",
    "What is the GDP of that state? Answer each question.\" \n",
    "messages = [HumanMessage(content=query)]\n",
    "\n",
    "model = ChatOpenAI(model=\"gpt-4o\")  # requires more advanced model\n",
    "abot = Agent(model, [tool], system=prompt)\n",
    "result = abot.graph.invoke({\"messages\": messages})"
   ]
  }
 ],
 "metadata": {
  "kernelspec": {
   "display_name": "langraph_react_agent",
   "language": "python",
   "name": "python3"
  },
  "language_info": {
   "codemirror_mode": {
    "name": "ipython",
    "version": 3
   },
   "file_extension": ".py",
   "mimetype": "text/x-python",
   "name": "python",
   "nbconvert_exporter": "python",
   "pygments_lexer": "ipython3",
   "version": "3.13.2"
  }
 },
 "nbformat": 4,
 "nbformat_minor": 2
}
